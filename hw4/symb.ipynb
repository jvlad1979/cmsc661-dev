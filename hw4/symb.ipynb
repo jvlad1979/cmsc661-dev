{
 "cells": [
  {
   "cell_type": "code",
   "execution_count": 2,
   "metadata": {},
   "outputs": [
    {
     "data": {
      "text/latex": [
       "$\\displaystyle \\frac{\\omega^{2} {u}_{n - 1}}{2 \\omega + 1} - \\frac{\\left(\\omega + 1\\right)^{2} {u}_{n}}{2 \\omega + 1} + {u}_{n + 1}$"
      ],
      "text/plain": [
       "omega**2*u[n - 1]/(2*omega + 1) - (omega + 1)**2*u[n]/(2*omega + 1) + u[n + 1]"
      ]
     },
     "execution_count": 2,
     "metadata": {},
     "output_type": "execute_result"
    }
   ],
   "source": [
    "import sympy as sp\n",
    "import numpy as np\n",
    "\n",
    "\n",
    "u = sp.IndexedBase('u')\n",
    "t = sp.IndexedBase('t')\n",
    "h = sp.IndexedBase('h')\n",
    "\n",
    "\n",
    "n = sp.symbols('n')\n",
    "# omega = h[n]/h[n-1]\n",
    "omega = sp.symbols('omega')\n",
    "\n",
    "u[n+1]-((1+omega)**2/(1+2*omega))*u[n] + (omega**2)/(1+2*omega)*u[n-1]"
   ]
  },
  {
   "cell_type": "code",
   "execution_count": null,
   "metadata": {},
   "outputs": [
    {
     "data": {
      "text/latex": [
       "$\\displaystyle \\alpha_{0} {u}_{n} + \\alpha_{1} {u}_{n - 1} + {u}_{n + 1} = \\left(\\beta_{0} {f}_{n} + \\beta_{1} {f}_{n - 1} + \\beta_{-1} {f}_{n + 1}\\right) {h}_{n}$"
      ],
      "text/plain": [
       "Eq(\\alpha_0*u[n] + \\alpha_1*u[n - 1] + u[n + 1], (\\beta_0*f[n] + \\beta_1*f[n - 1] + \\beta_{-1}*f[n + 1])*h[n])"
      ]
     },
     "execution_count": 17,
     "metadata": {},
     "output_type": "execute_result"
    },
    {
     "ename": "",
     "evalue": "",
     "output_type": "error",
     "traceback": [
      "\u001b[1;31mThe Kernel crashed while executing code in the current cell or a previous cell. \n",
      "\u001b[1;31mPlease review the code in the cell(s) to identify a possible cause of the failure. \n",
      "\u001b[1;31mClick <a href='https://aka.ms/vscodeJupyterKernelCrash'>here</a> for more info. \n",
      "\u001b[1;31mView Jupyter <a href='command:jupyter.viewOutput'>log</a> for further details."
     ]
    }
   ],
   "source": [
    "import sympy as sp\n",
    "import numpy as np\n",
    "\n",
    "\n",
    "u = sp.IndexedBase('u')\n",
    "h = sp.IndexedBase('h')\n",
    "f = sp.IndexedBase('f')\n",
    "n = sp.symbols('n')\n",
    "\n",
    "a_0 = sp.symbols('\\\\alpha_0')\n",
    "a_1 = sp.symbols('\\\\alpha_1')\n",
    "\n",
    "b_0 = sp.symbols('\\\\beta_0')\n",
    "b_1 = sp.symbols('\\\\beta_1')\n",
    "b_n1 = sp.symbols('\\\\beta_{-1}')\n",
    "\n",
    "lhs = u[n+1] + a_0*u[n] + a_1*u[n-1]\n",
    "rhs = h[n]*(b_n1*f[n+1] + b_0*f[n] + b_1*f[n-1])\n",
    "\n",
    "sp.Eq(lhs,rhs)"
   ]
  }
 ],
 "metadata": {
  "kernelspec": {
   "display_name": ".venv",
   "language": "python",
   "name": "python3"
  },
  "language_info": {
   "codemirror_mode": {
    "name": "ipython",
    "version": 3
   },
   "file_extension": ".py",
   "mimetype": "text/x-python",
   "name": "python",
   "nbconvert_exporter": "python",
   "pygments_lexer": "ipython3",
   "version": "3.11.11"
  }
 },
 "nbformat": 4,
 "nbformat_minor": 2
}
