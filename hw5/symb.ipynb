{
 "cells": [
  {
   "cell_type": "code",
   "execution_count": 145,
   "metadata": {},
   "outputs": [
    {
     "name": "stdout",
     "output_type": "stream",
     "text": [
      "⎡   2  2       3    4         ⎤\n",
      "⎢  h ⋅ω       h ⋅m⋅ω         2⎥\n",
      "⎢- ───── + 1  ─────── - h⋅m⋅ω ⎥\n",
      "⎢    2           4            ⎥\n",
      "⎢                             ⎥\n",
      "⎢                  2  2       ⎥\n",
      "⎢     h           h ⋅ω        ⎥\n",
      "⎢     ─         - ───── + 1   ⎥\n",
      "⎣     m             2         ⎦\n"
     ]
    }
   ],
   "source": [
    "import sympy as sp\n",
    "\n",
    "# Declare symbols\n",
    "h, p, q, m, omega = sp.symbols('h p q m omega')\n",
    "\n",
    "\n",
    "# Define the elements of the matrix\n",
    "a11 = 1 - (h**2/2)*omega**2\n",
    "a12 = -h*m*omega**2 + ((h**3)/4)*m*omega**4\n",
    "a21 = h/m\n",
    "a22 = 1 - (h**2/2)*omega**2\n",
    "\n",
    "# Construct the matrix A\n",
    "A = sp.Matrix([[a11, a12],\n",
    "               [a21, a22]])\n",
    "\n",
    "J = sp.Matrix([[0,1],[-1,0]])\n",
    "\n",
    "Id = sp.Matrix([[1,0],[0,1]])\n",
    "\n",
    "# Optionally, print the matrix\n",
    "sp.pretty_print(A)\n",
    "\n",
    "\n",
    "# Create the vector and the matrices\n",
    "vec = sp.Matrix([p, q])\n",
    "\n",
    "# Define the coefficient matrix\n",
    "M = sp.Matrix([[1/m, 0],\n",
    "                          [0, m*omega**2]])\n",
    "\n",
    "# Compute the Hamiltonian as 1/2 * vec.T * coeff_matrix * vec\n",
    "H = sp.Rational(1, 2) * (vec.transpose() * M * vec)[0]\n",
    "\n",
    "\n",
    "M_star = sp.Matrix([\n",
    "    [1/m, 0],\n",
    "    [0, m*omega**2 * (1 - (omega*h/2)**2)]\n",
    "])\n",
    "\n",
    "# Define the Hamiltonian H*\n",
    "H_star = sp.Rational(1, 2) * (vec.transpose() * M_star * vec)[0]\n",
    "\n"
   ]
  },
  {
   "cell_type": "code",
   "execution_count": 146,
   "metadata": {},
   "outputs": [
    {
     "data": {
      "text/latex": [
       "$\\displaystyle \\left[\\begin{matrix}0 & 1\\\\-1 & 0\\end{matrix}\\right]$"
      ],
      "text/plain": [
       "Matrix([\n",
       "[ 0, 1],\n",
       "[-1, 0]])"
      ]
     },
     "execution_count": 146,
     "metadata": {},
     "output_type": "execute_result"
    }
   ],
   "source": [
    "J "
   ]
  },
  {
   "cell_type": "code",
   "execution_count": 186,
   "metadata": {},
   "outputs": [
    {
     "data": {
      "text/latex": [
       "$\\displaystyle \\left[\\begin{matrix}\\frac{1}{m} & 0\\\\0 & m \\omega^{2} \\left(- \\frac{h^{2} \\omega^{2}}{4} + 1\\right)\\end{matrix}\\right]$"
      ],
      "text/plain": [
       "Matrix([\n",
       "[1/m,                                 0],\n",
       "[  0, m*omega**2*(-h**2*omega**2/4 + 1)]])"
      ]
     },
     "execution_count": 186,
     "metadata": {},
     "output_type": "execute_result"
    }
   ],
   "source": [
    "M_star"
   ]
  },
  {
   "cell_type": "code",
   "execution_count": 194,
   "metadata": {},
   "outputs": [
    {
     "name": "stdout",
     "output_type": "stream",
     "text": [
      "m \\omega^{2} \\left(- \\frac{h^{2} \\omega^{2}}{2} + 1\\right)^{2} \\left(- \\frac{h^{2} \\omega^{2}}{4} + 1\\right) + \\frac{\\left(\\frac{h^{3} m \\omega^{4}}{4} - h m \\omega^{2}\\right)^{2}}{m}\n"
     ]
    }
   ],
   "source": [
    "print(sp.latex((A.T@M_star@A)[1,1]))"
   ]
  },
  {
   "cell_type": "code",
   "execution_count": 196,
   "metadata": {},
   "outputs": [
    {
     "data": {
      "text/latex": [
       "$\\displaystyle \\left[\\begin{matrix}\\frac{1}{m} & 0\\\\0 & \\frac{m \\omega^{2} \\left(- h^{2} \\omega^{2} + 4\\right)}{4}\\end{matrix}\\right]$"
      ],
      "text/plain": [
       "Matrix([\n",
       "[1/m,                                 0],\n",
       "[  0, m*omega**2*(-h**2*omega**2 + 4)/4]])"
      ]
     },
     "execution_count": 196,
     "metadata": {},
     "output_type": "execute_result"
    }
   ],
   "source": [
    "sp.simplify(A.T@M_star@A)"
   ]
  },
  {
   "cell_type": "code",
   "execution_count": 185,
   "metadata": {},
   "outputs": [
    {
     "data": {
      "text/latex": [
       "$\\displaystyle \\left[\\begin{matrix}\\frac{h^{4} \\omega^{4} + 4}{4 m} & \\frac{h^{3} \\omega^{4} \\left(- h^{2} \\omega^{2} + 2\\right)}{8}\\\\\\frac{h^{3} \\omega^{4} \\left(- h^{2} \\omega^{2} + 2\\right)}{8} & \\frac{m \\omega^{2} \\left(h^{6} \\omega^{6} - 4 h^{4} \\omega^{4} + 16\\right)}{16}\\end{matrix}\\right]$"
      ],
      "text/plain": [
       "Matrix([\n",
       "[           (h**4*omega**4 + 4)/(4*m),                 h**3*omega**4*(-h**2*omega**2 + 2)/8],\n",
       "[h**3*omega**4*(-h**2*omega**2 + 2)/8, m*omega**2*(h**6*omega**6 - 4*h**4*omega**4 + 16)/16]])"
      ]
     },
     "execution_count": 185,
     "metadata": {},
     "output_type": "execute_result"
    }
   ],
   "source": [
    "sp.simplify(A.T@M@A)"
   ]
  },
  {
   "cell_type": "code",
   "execution_count": 182,
   "metadata": {},
   "outputs": [
    {
     "data": {
      "text/latex": [
       "$\\displaystyle -1$"
      ],
      "text/plain": [
       "-1"
      ]
     },
     "execution_count": 182,
     "metadata": {},
     "output_type": "execute_result"
    }
   ],
   "source": [
    "sp.simplify(((A.T@J)[1,:]*(A)[:,0])[0])"
   ]
  },
  {
   "cell_type": "code",
   "execution_count": 180,
   "metadata": {},
   "outputs": [
    {
     "data": {
      "text/latex": [
       "$\\displaystyle - \\frac{\\left(h^{2} \\omega^{2} - 2\\right)^{2}}{4}$"
      ],
      "text/plain": [
       "-(h**2*omega**2 - 2)**2/4"
      ]
     },
     "execution_count": 180,
     "metadata": {},
     "output_type": "execute_result"
    }
   ],
   "source": [
    "sp.simplify(a11*(-a11))"
   ]
  },
  {
   "cell_type": "code",
   "execution_count": 177,
   "metadata": {},
   "outputs": [
    {
     "data": {
      "text/latex": [
       "$\\displaystyle -1$"
      ],
      "text/plain": [
       "-1"
      ]
     },
     "execution_count": 177,
     "metadata": {},
     "output_type": "execute_result"
    }
   ],
   "source": [
    "sp.simplify(((A.T@J)[1,:]*(A)[:,0])[0])"
   ]
  },
  {
   "cell_type": "code",
   "execution_count": 174,
   "metadata": {},
   "outputs": [
    {
     "data": {
      "text/latex": [
       "$\\displaystyle \\frac{\\left(h^{2} \\omega^{2} - 2\\right)^{2}}{4}$"
      ],
      "text/plain": [
       "(h**2*omega**2 - 2)**2/4"
      ]
     },
     "execution_count": 174,
     "metadata": {},
     "output_type": "execute_result"
    }
   ],
   "source": [
    "sp.simplify(sp.simplify(a11**2))"
   ]
  },
  {
   "cell_type": "code",
   "execution_count": 165,
   "metadata": {},
   "outputs": [
    {
     "data": {
      "text/latex": [
       "$\\displaystyle \\left[\\begin{matrix}0 & - \\frac{h \\left(\\frac{h^{3} m \\omega^{4}}{4} - h m \\omega^{2}\\right)}{m} + \\left(- \\frac{h^{2} \\omega^{2}}{2} + 1\\right)^{2}\\\\\\frac{h \\left(\\frac{h^{3} m \\omega^{4}}{4} - h m \\omega^{2}\\right)}{m} + \\left(- \\frac{h^{2} \\omega^{2}}{2} + 1\\right) \\left(\\frac{h^{2} \\omega^{2}}{2} - 1\\right) & \\left(- \\frac{h^{2} \\omega^{2}}{2} + 1\\right) \\left(\\frac{h^{3} m \\omega^{4}}{4} - h m \\omega^{2}\\right) + \\left(\\frac{h^{2} \\omega^{2}}{2} - 1\\right) \\left(\\frac{h^{3} m \\omega^{4}}{4} - h m \\omega^{2}\\right)\\end{matrix}\\right]$"
      ],
      "text/plain": [
       "Matrix([\n",
       "[                                                                                    0,                                                  -h*(h**3*m*omega**4/4 - h*m*omega**2)/m + (-h**2*omega**2/2 + 1)**2],\n",
       "[h*(h**3*m*omega**4/4 - h*m*omega**2)/m + (-h**2*omega**2/2 + 1)*(h**2*omega**2/2 - 1), (-h**2*omega**2/2 + 1)*(h**3*m*omega**4/4 - h*m*omega**2) + (h**2*omega**2/2 - 1)*(h**3*m*omega**4/4 - h*m*omega**2)]])"
      ]
     },
     "execution_count": 165,
     "metadata": {},
     "output_type": "execute_result"
    }
   ],
   "source": [
    "A.T@J@A"
   ]
  },
  {
   "cell_type": "code",
   "execution_count": 148,
   "metadata": {},
   "outputs": [
    {
     "data": {
      "text/latex": [
       "$\\displaystyle \\frac{m \\omega^{2} q^{2}}{2} + \\frac{p^{2}}{2 m}$"
      ],
      "text/plain": [
       "m*omega**2*q**2/2 + p**2/(2*m)"
      ]
     },
     "execution_count": 148,
     "metadata": {},
     "output_type": "execute_result"
    }
   ],
   "source": [
    "H"
   ]
  },
  {
   "cell_type": "code",
   "execution_count": 149,
   "metadata": {},
   "outputs": [
    {
     "data": {
      "text/latex": [
       "$\\displaystyle \\frac{m \\omega^{2} q^{2} \\left(- \\frac{h^{2} \\omega^{2}}{4} + 1\\right)}{2} + \\frac{p^{2}}{2 m}$"
      ],
      "text/plain": [
       "m*omega**2*q**2*(-h**2*omega**2/4 + 1)/2 + p**2/(2*m)"
      ]
     },
     "execution_count": 149,
     "metadata": {},
     "output_type": "execute_result"
    }
   ],
   "source": [
    "H_star"
   ]
  },
  {
   "cell_type": "code",
   "execution_count": 150,
   "metadata": {},
   "outputs": [
    {
     "data": {
      "text/latex": [
       "$\\displaystyle \\left[\\begin{matrix}\\frac{1}{m} & 0\\\\0 & m \\omega^{2} \\left(- \\frac{h^{2} \\omega^{2}}{4} + 1\\right)\\end{matrix}\\right]$"
      ],
      "text/plain": [
       "Matrix([\n",
       "[1/m,                                 0],\n",
       "[  0, m*omega**2*(-h**2*omega**2/4 + 1)]])"
      ]
     },
     "execution_count": 150,
     "metadata": {},
     "output_type": "execute_result"
    }
   ],
   "source": [
    "M_star"
   ]
  },
  {
   "cell_type": "code",
   "execution_count": 151,
   "metadata": {},
   "outputs": [],
   "source": [
    "out = A.T@M_star@A"
   ]
  },
  {
   "cell_type": "code",
   "execution_count": 152,
   "metadata": {},
   "outputs": [
    {
     "data": {
      "text/latex": [
       "$\\displaystyle \\left[\\begin{matrix}\\frac{h^{2} \\omega^{2} \\left(- \\frac{h^{2} \\omega^{2}}{4} + 1\\right)}{m} + \\frac{\\left(- \\frac{h^{2} \\omega^{2}}{2} + 1\\right)^{2}}{m} & h \\omega^{2} \\left(- \\frac{h^{2} \\omega^{2}}{2} + 1\\right) \\left(- \\frac{h^{2} \\omega^{2}}{4} + 1\\right) + \\frac{\\left(- \\frac{h^{2} \\omega^{2}}{2} + 1\\right) \\left(\\frac{h^{3} m \\omega^{4}}{4} - h m \\omega^{2}\\right)}{m}\\\\h \\omega^{2} \\left(- \\frac{h^{2} \\omega^{2}}{2} + 1\\right) \\left(- \\frac{h^{2} \\omega^{2}}{4} + 1\\right) + \\frac{\\left(- \\frac{h^{2} \\omega^{2}}{2} + 1\\right) \\left(\\frac{h^{3} m \\omega^{4}}{4} - h m \\omega^{2}\\right)}{m} & m \\omega^{2} \\left(- \\frac{h^{2} \\omega^{2}}{2} + 1\\right)^{2} \\left(- \\frac{h^{2} \\omega^{2}}{4} + 1\\right) + \\frac{\\left(\\frac{h^{3} m \\omega^{4}}{4} - h m \\omega^{2}\\right)^{2}}{m}\\end{matrix}\\right]$"
      ],
      "text/plain": [
       "Matrix([\n",
       "[                                                  h**2*omega**2*(-h**2*omega**2/4 + 1)/m + (-h**2*omega**2/2 + 1)**2/m, h*omega**2*(-h**2*omega**2/2 + 1)*(-h**2*omega**2/4 + 1) + (-h**2*omega**2/2 + 1)*(h**3*m*omega**4/4 - h*m*omega**2)/m],\n",
       "[h*omega**2*(-h**2*omega**2/2 + 1)*(-h**2*omega**2/4 + 1) + (-h**2*omega**2/2 + 1)*(h**3*m*omega**4/4 - h*m*omega**2)/m,                  m*omega**2*(-h**2*omega**2/2 + 1)**2*(-h**2*omega**2/4 + 1) + (h**3*m*omega**4/4 - h*m*omega**2)**2/m]])"
      ]
     },
     "execution_count": 152,
     "metadata": {},
     "output_type": "execute_result"
    }
   ],
   "source": [
    "out"
   ]
  },
  {
   "cell_type": "code",
   "execution_count": 153,
   "metadata": {},
   "outputs": [
    {
     "data": {
      "text/latex": [
       "$\\displaystyle \\left[\\begin{matrix}- \\frac{h^{2} \\omega^{4}}{4} + \\omega^{2} & 0\\\\0 & \\frac{m^{2} \\omega^{4} \\left(h^{4} \\omega^{4} - 8 h^{2} \\omega^{2} + 16\\right)}{16}\\end{matrix}\\right]$"
      ],
      "text/plain": [
       "Matrix([\n",
       "[-h**2*omega**4/4 + omega**2,                                                       0],\n",
       "[                          0, m**2*omega**4*(h**4*omega**4 - 8*h**2*omega**2 + 16)/16]])"
      ]
     },
     "execution_count": 153,
     "metadata": {},
     "output_type": "execute_result"
    }
   ],
   "source": [
    "sp.simplify(out*(m*(omega**2) * (1 - ((omega*h)/2)**2)))"
   ]
  },
  {
   "cell_type": "code",
   "execution_count": 154,
   "metadata": {},
   "outputs": [
    {
     "data": {
      "text/latex": [
       "$\\displaystyle \\left[\\begin{matrix}\\frac{1}{m} & 0\\\\0 & \\frac{m \\omega^{2} \\left(- h^{2} \\omega^{2} + 4\\right)}{4}\\end{matrix}\\right]$"
      ],
      "text/plain": [
       "Matrix([\n",
       "[1/m,                                 0],\n",
       "[  0, m*omega**2*(-h**2*omega**2 + 4)/4]])"
      ]
     },
     "execution_count": 154,
     "metadata": {},
     "output_type": "execute_result"
    }
   ],
   "source": [
    "# Define generalized coordinates and momenta\n",
    "q, p = sp.symbols('q p')\n",
    "\n",
    "# Define the update equations for velocity Verlet\n",
    "p_half = p - (h / 2) * (m * omega**2 * q)  # Half-step momentum update\n",
    "q_new = q + (h / m) * p_half  # Full-step position update\n",
    "p_new = p_half - (h / 2) * (m * omega**2 * q_new)  # Full-step momentum update\n",
    "\n",
    "# Define the transformation equations as a vector\n",
    "transformation = sp.Matrix([p_new, q_new])\n",
    "\n",
    "# Compute the Jacobian J_V = d(new_variables) / d(old_variables)\n",
    "old_vars = sp.Matrix([p, q])\n",
    "J_V = transformation.jacobian(old_vars)\n",
    "\n",
    "# Compute J_V^T * M* * J_V\n",
    "lhs_J = J_V.T * M_star * J_V\n",
    "\n",
    "# Simplify the result\n",
    "lhs_J_simplified = sp.simplify(lhs_J)\n",
    "lhs_J_simplified\n"
   ]
  },
  {
   "cell_type": "code",
   "execution_count": null,
   "metadata": {},
   "outputs": [],
   "source": []
  },
  {
   "cell_type": "code",
   "execution_count": 155,
   "metadata": {},
   "outputs": [
    {
     "data": {
      "text/latex": [
       "$\\displaystyle \\left[\\begin{matrix}- \\frac{h^{2} \\omega^{2}}{2} + 1 & - \\frac{h m \\omega^{2} \\left(- \\frac{h^{2} \\omega^{2}}{2} + 1\\right)}{2} - \\frac{h m \\omega^{2}}{2}\\\\\\frac{h}{m} & - \\frac{h^{2} \\omega^{2}}{2} + 1\\end{matrix}\\right]$"
      ],
      "text/plain": [
       "Matrix([\n",
       "[-h**2*omega**2/2 + 1, -h*m*omega**2*(-h**2*omega**2/2 + 1)/2 - h*m*omega**2/2],\n",
       "[                 h/m,                                    -h**2*omega**2/2 + 1]])"
      ]
     },
     "execution_count": 155,
     "metadata": {},
     "output_type": "execute_result"
    }
   ],
   "source": [
    "J_V"
   ]
  },
  {
   "cell_type": "code",
   "execution_count": 156,
   "metadata": {},
   "outputs": [
    {
     "data": {
      "text/latex": [
       "$\\displaystyle \\left[\\begin{matrix}\\frac{1}{m} & 0\\\\0 & m \\omega^{2} \\left(- \\frac{h^{2} \\omega^{2}}{4} + 1\\right)\\end{matrix}\\right]$"
      ],
      "text/plain": [
       "Matrix([\n",
       "[1/m,                                 0],\n",
       "[  0, m*omega**2*(-h**2*omega**2/4 + 1)]])"
      ]
     },
     "execution_count": 156,
     "metadata": {},
     "output_type": "execute_result"
    }
   ],
   "source": [
    "M_star"
   ]
  },
  {
   "cell_type": "code",
   "execution_count": 157,
   "metadata": {},
   "outputs": [
    {
     "data": {
      "text/latex": [
       "$\\displaystyle \\left[\\begin{matrix}\\frac{h^{6} m \\omega^{8} q^{2}}{16} - \\frac{h^{5} \\omega^{6} p q}{4} - \\frac{h^{4} m \\omega^{6} q^{2}}{4} + \\frac{h^{4} \\omega^{4} p^{2}}{4 m} + \\frac{h^{3} \\omega^{4} p q}{2} + m \\omega^{2} q^{2} + \\frac{p^{2}}{m}\\end{matrix}\\right]$"
      ],
      "text/plain": [
       "Matrix([[h**6*m*omega**8*q**2/16 - h**5*omega**6*p*q/4 - h**4*m*omega**6*q**2/4 + h**4*omega**4*p**2/(4*m) + h**3*omega**4*p*q/2 + m*omega**2*q**2 + p**2/m]])"
      ]
     },
     "execution_count": 157,
     "metadata": {},
     "output_type": "execute_result"
    }
   ],
   "source": [
    "sp.simplify(vec.T*A.T*M*A*vec)"
   ]
  },
  {
   "cell_type": "code",
   "execution_count": 158,
   "metadata": {},
   "outputs": [
    {
     "data": {
      "text/latex": [
       "$\\displaystyle \\left[\\begin{matrix}\\frac{1}{m} & 0\\\\0 & \\frac{m \\omega^{2} \\left(- h^{2} \\omega^{2} + 4\\right)}{4}\\end{matrix}\\right]$"
      ],
      "text/plain": [
       "Matrix([\n",
       "[1/m,                                 0],\n",
       "[  0, m*omega**2*(-h**2*omega**2 + 4)/4]])"
      ]
     },
     "execution_count": 158,
     "metadata": {},
     "output_type": "execute_result"
    }
   ],
   "source": [
    "sp.simplify(out)"
   ]
  },
  {
   "cell_type": "code",
   "execution_count": 159,
   "metadata": {},
   "outputs": [
    {
     "name": "stdout",
     "output_type": "stream",
     "text": [
      "m \\omega^{2} \\left(- \\frac{h^{2} \\omega^{2}}{2} + 1\\right)^{2} \\left(- \\frac{h^{2} \\omega^{2}}{4} + 1\\right) + \\frac{\\left(\\frac{h^{3} m \\omega^{4}}{4} - h m \\omega^{2}\\right)^{2}}{m}\n"
     ]
    }
   ],
   "source": [
    "print(sp.latex(out[3]))"
   ]
  }
 ],
 "metadata": {
  "kernelspec": {
   "display_name": ".venv",
   "language": "python",
   "name": "python3"
  },
  "language_info": {
   "codemirror_mode": {
    "name": "ipython",
    "version": 3
   },
   "file_extension": ".py",
   "mimetype": "text/x-python",
   "name": "python",
   "nbconvert_exporter": "python",
   "pygments_lexer": "ipython3",
   "version": "3.11.11"
  }
 },
 "nbformat": 4,
 "nbformat_minor": 2
}
