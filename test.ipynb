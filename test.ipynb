{
 "cells": [
  {
   "cell_type": "code",
   "execution_count": 38,
   "metadata": {},
   "outputs": [],
   "source": [
    "\n",
    "\n",
    "def fwd_euler(f,y0,t0,h,N):\n",
    "    y = [y0]\n",
    "    t = [t0]\n",
    "    for i in range(N):\n",
    "        y.append(y[-1] + h*f(t[-1],y[-1]))\n",
    "        t.append(t[-1] + h)\n",
    "    return t,y\n",
    "\n",
    "def bwd_euler(f,y0,t0,h,N,M):\n",
    "    y = [y0]\n",
    "    t = [t0]\n",
    "    for i in range(N):\n",
    "        ynext = [y[-1]]\n",
    "        for _ in range(M):\n",
    "            ynext.append(y[-1] + h*f(t[-1]+h,ynext[-1]))\n",
    "        y.append(y[-1] + h*f(t[-1] + h,ynext[-1]))\n",
    "        t.append(t[-1] + h)\n",
    "    return t,y\n",
    "\n",
    "def implicit_trapezoid(f,y0,t0,h,N,M):\n",
    "    y = [y0]\n",
    "    t = [t0]\n",
    "    for i in range(N):\n",
    "        ynext = [y[-1]]\n",
    "        for _ in range(M):\n",
    "            ynext.append(y[-1] + h*f(t[-1]+h,ynext[-1]))\n",
    "        y.append(y[-1] + (h/2)*(f(t[-1],y[-1])+f(t[-1]+h,ynext[-1])))\n",
    "        t.append(t[-1] + h)\n",
    "    return t,y\n",
    "\n",
    "def trapezoid_euler(f,y0,t0,h,N,M):\n",
    "    y = [y0]\n",
    "    t = [t0]\n",
    "    for i in range(N):\n",
    "        y.append(y[-1] + (h/2)*(f(t[-1],y[-1])+f(t[-1]+h,y[-1] + h*f(t[-1],y[-1]))))\n",
    "        t.append(t[-1] + h)\n",
    "    return t,y\n",
    "\n",
    "def implicit_midpoint(f,y0,t0,h,N,M):\n",
    "    y = [y0]\n",
    "    t = [t0]\n",
    "    for i in range(N):\n",
    "        ynext = [y[-1]]\n",
    "        for _ in range(M):\n",
    "            ynext.append(y[-1] + h*f(t[-1]+h,ynext[-1]))\n",
    "        y.append(y[-1] + h*f(t[-1]+h/2,(y[-1] + ynext[-1])/2))\n",
    "        t.append(t[-1] + h)\n",
    "    return t,y\n",
    "\n",
    "# def implicit_midpoint_alt(f,y0,t0,h,N,M):\n",
    "#     y = [y0]\n",
    "#     t = [t0]\n",
    "#     k = 0\n",
    "#     for i in range(M):ssssssssssss \n",
    "#         k = f(t[-1]+h/2,y[-1]+(h/2)*k)\n",
    "\n",
    "#     for i in range(N):\n",
    "#         k = f(t[-1]+h/2,y[-1]+(h/2)*k)\n",
    "#         y.append(y[-1] + h*f(t[-1]+h/2,ynext[-1]))\n",
    "#         t.append(t[-1] + h)\n",
    "#     return t,y\n",
    "\n",
    "def rk4(f,y0,t0,h,N):\n",
    "    y = [y0]\n",
    "    t = [t0]\n",
    "    for i in range(N):\n",
    "        k1 = f(t[-1],y[-1])\n",
    "        k2 = f(t[-1]+h/2,y[-1]+h/2*k1)\n",
    "        k3 = f(t[-1]+h/2,y[-1]+h/2*k2)\n",
    "        k4 = f(t[-1]+h,y[-1]+h*k3)\n",
    "        y.append(y[-1] + (h/6)*(k1 + 2*(k2 + k3) + k4))\n",
    "        t.append(t[-1] + h)\n",
    "    return t,y\n",
    "\n",
    "\n"
   ]
  },
  {
   "cell_type": "code",
   "execution_count": 57,
   "metadata": {},
   "outputs": [],
   "source": [
    "def adams_bashforth(f,y0,t0,h,N):\n",
    "    t,y = fwd_euler(f,y0,t0,h,1)\n",
    "    for i in range(N):\n",
    "        y.append(y[-1] + (3*h/2)*(f(t[-1],y[-1]) - (h/2)*f(t[-2],y[-2])))\n",
    "        t.append(t[-1] + h)\n",
    "    return t,y"
   ]
  },
  {
   "cell_type": "code",
   "execution_count": 58,
   "metadata": {},
   "outputs": [
    {
     "name": "stdout",
     "output_type": "stream",
     "text": [
      "[1.0, 1.5, 2.4375, 3.984375, 6.515625, 10.6552734375, 17.425048828125, 28.4959716796875, 46.60075378417969, 76.20832443237305, 124.62692642211914, 203.80806040763855, 333.2965570092201, 545.054963439703, 891.3530815802515, 1457.6700871204957, 2383.7939496645704, 3898.3262705779052, 6375.109607949227, 10425.50563817779, 17049.301815320654, 27881.49586965281, 45595.87368151979, 74564.99846709974, 121939.52100213958, 199413.22454116307, 326109.4827591342, 533301.6152270169, 872132.2986299419, 1426237.4697473326, 2332390.766064718, 3814264.3150356314, 6237639.28267522, 10200694.185612455, 16681657.459320191, 27280270.394008, 44612662.41589147, 72957108.52893357, 119310065.7226541, 195113157.16546965, 319077387.71657425, 521801711.53547937, 853325984.9902313, 1395482652.8200023, 2282096020.249336, 3732015038.032587, 6103133312.760277, 9980730477.699375, 16321940839.831354, 26692009505.13624, 43650652726.520035, 71383890489.19702, 116737310969.87228, 190905814730.55206, 312196929971.61505, 510549787188.34784, 834925203209.9309, 1365391020519.564, 2232885810307.375, 3651539351690.488, 5971527776025.721, 9765509979603.045, 15969981006300.506, 26116433639850.312, 42709387431056.7, 69844596696877.3, 114220034076212.14, 186789197752706.75, 305464839677947.0, 499540494857774.75, 816921208561490.8, 1335948272196776.0, 2184736749739078.5, 3572799011006492.0, 5842760128685284.0, 9554930410635530.0, 1.5625610694483688e+16, 2.5553269263352292e+16, 4.178841920565082e+16, 6.8338495623010376e+16, 1.1175703873920864e+17, 1.8276134986430067e+17, 2.9887791749892454e+17, 4.887686025235616e+17, 7.993054448851845e+17, 1.3071404155759053e+18, 2.1376259563418621e+18, 3.495756595677777e+18, 5.716769175622011e+18, 9.348891695648936e+18, 1.5288666246956511e+19, 2.500224873923972e+19, 4.088731037236516e+19, 6.686487151303157e+19, 1.0934715445298679e+20, 1.7882035688403347e+20, 2.9243303308712352e+20, 4.782289909867099e+20, 7.820695405229066e+20, 1.2789537601050785e+21, 2.0915310413358422e+21, 3.4203754923180216e+21]\n"
     ]
    },
    {
     "data": {
      "text/plain": [
       "[<matplotlib.lines.Line2D at 0x7f4d4978d350>]"
      ]
     },
     "execution_count": 58,
     "metadata": {},
     "output_type": "execute_result"
    },
    {
     "data": {
      "image/png": "[encoded data removed]",
      "text/plain": [
       "<Figure size 640x480 with 1 Axes>"
      ]
     },
     "metadata": {},
     "output_type": "display_data"
    }
   ],
   "source": [
    "import matplotlib.pyplot as plt\n",
    "import numpy as np\n",
    "\n",
    "f = lambda t,y: y\n",
    "y0 = 1.0\n",
    "t0 = 0.0\n",
    "t,y = adams_bashforth(f,y0,t0,.5,100)\n",
    "print(y)\n",
    "\n",
    "plt.plot(t,y)\n",
    "plt.plot(t,np.exp(t))"
   ]
  }
 ],
 "metadata": {
  "kernelspec": {
   "display_name": ".venv",
   "language": "python",
   "name": "python3"
  },
  "language_info": {
   "codemirror_mode": {
    "name": "ipython",
    "version": 3
   },
   "file_extension": ".py",
   "mimetype": "text/x-python",
   "name": "python",
   "nbconvert_exporter": "python",
   "pygments_lexer": "ipython3",
   "version": "3.11.11"
  }
 },
 "nbformat": 4,
 "nbformat_minor": 2
}
